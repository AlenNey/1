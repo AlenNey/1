{
 "cells": [
  {
   "cell_type": "markdown",
   "metadata": {},
   "source": [
    "Ввод 1 множества:"
   ]
  },
  {
   "cell_type": "code",
   "execution_count": null,
   "metadata": {},
   "outputs": [],
   "source": [
    "my_list_1 = []\n",
    "\n",
    "for i in range(5):\n",
    "    num = int(input())\n",
    "    my_list_1.append(num)    "
   ]
  },
  {
   "cell_type": "markdown",
   "metadata": {},
   "source": [
    "Ввод 2 множества:"
   ]
  },
  {
   "cell_type": "code",
   "execution_count": null,
   "metadata": {},
   "outputs": [],
   "source": [
    "my_list_2 = []\n",
    "for i in range(5):\n",
    "    num1 = int(input())\n",
    "    my_list_2.append(num1) "
   ]
  },
  {
   "cell_type": "markdown",
   "metadata": {},
   "source": [
    "Объединение 1 и 2 множества:"
   ]
  },
  {
   "cell_type": "code",
   "execution_count": null,
   "metadata": {},
   "outputs": [],
   "source": [
    "my_list_4 = my_list_1 + my_list_2\n",
    "my_list_4 = set(my_list_4)\n",
    "my_list_4 = list(my_list_4)\n",
    "my_list_4"
   ]
  },
  {
   "cell_type": "code",
   "execution_count": null,
   "metadata": {},
   "outputs": [],
   "source": [
    "my_list_3 = []\n",
    "for vstr1 in my_list_2:\n",
    "    if vstr1 in my_list_1:\n",
    "        my_list_3.append(vstr1)\n",
    "my_list_3"
   ]
  },
  {
   "cell_type": "code",
   "execution_count": null,
   "metadata": {},
   "outputs": [],
   "source": [
    "my_list_3 = []\n",
    "for vstr1 in my_list_1:\n",
    "    for vstr2 in my_list_2:\n",
    "        if vstr1 == vstr2:\n",
    "            my_list_3.append(vstr1)\n",
    "my_list_3"
   ]
  },
  {
   "cell_type": "markdown",
   "metadata": {},
   "source": [
    "Cимметричная разность 1 и 2 множества:"
   ]
  },
  {
   "cell_type": "code",
   "execution_count": null,
   "metadata": {},
   "outputs": [],
   "source": [
    "my_list_5 = my_list_4\n",
    "for vstr5 in my_list_4:\n",
    "    if vstr5 in my_list_3:\n",
    "        my_list_5.remove(vstr5)\n",
    "my_list_5 "
   ]
  },
  {
   "cell_type": "markdown",
   "metadata": {},
   "source": [
    "Разность 1 и 2 множества:"
   ]
  },
  {
   "cell_type": "code",
   "execution_count": null,
   "metadata": {},
   "outputs": [],
   "source": [
    "my_list_6 = my_list_4\n",
    "for vstr6 in my_list_6:\n",
    "    if vstr6 in my_list_1:\n",
    "        my_list_6.remove(vstr6)\n",
    "my_list_6        "
   ]
  }
 ],
 "metadata": {
  "kernelspec": {
   "display_name": "Python 3",
   "language": "python",
   "name": "python3"
  },
  "language_info": {
   "codemirror_mode": {
    "name": "ipython",
    "version": 3
   },
   "file_extension": ".py",
   "mimetype": "text/x-python",
   "name": "python",
   "nbconvert_exporter": "python",
   "pygments_lexer": "ipython3",
   "version": "3.7.6"
  }
 },
 "nbformat": 4,
 "nbformat_minor": 4
}
